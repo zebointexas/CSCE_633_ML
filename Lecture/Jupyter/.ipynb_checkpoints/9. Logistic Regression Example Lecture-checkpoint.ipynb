{
 "cells": [
  {
   "cell_type": "markdown",
   "metadata": {
    "scrolled": false
   },
   "source": [
    "# Gradient Descent Example\n",
    "#### Grade in relation to Hours of Studying"
   ]
  },
  {
   "cell_type": "code",
   "execution_count": 2,
   "metadata": {},
   "outputs": [
    {
     "ename": "NameError",
     "evalue": "name 'hours' is not defined",
     "output_type": "error",
     "traceback": [
      "\u001b[0;31m---------------------------------------------------------------------------\u001b[0m",
      "\u001b[0;31mNameError\u001b[0m                                 Traceback (most recent call last)",
      "\u001b[0;32m<ipython-input-2-45f5f9724b00>\u001b[0m in \u001b[0;36m<module>\u001b[0;34m\u001b[0m\n\u001b[0;32m----> 1\u001b[0;31m \u001b[0mhours\u001b[0m \u001b[0;34m<\u001b[0m\u001b[0;34m-\u001b[0m \u001b[0mc\u001b[0m\u001b[0;34m(\u001b[0m\u001b[0;36m10\u001b[0m\u001b[0;34m,\u001b[0m \u001b[0;36m9\u001b[0m\u001b[0;34m,\u001b[0m \u001b[0;36m7\u001b[0m\u001b[0;34m,\u001b[0m \u001b[0;36m2\u001b[0m\u001b[0;34m,\u001b[0m \u001b[0;36m3\u001b[0m\u001b[0;34m,\u001b[0m \u001b[0;36m6\u001b[0m\u001b[0;34m,\u001b[0m \u001b[0;36m2\u001b[0m\u001b[0;34m,\u001b[0m \u001b[0;36m8\u001b[0m\u001b[0;34m,\u001b[0m \u001b[0;36m11\u001b[0m\u001b[0;34m,\u001b[0m \u001b[0;36m8\u001b[0m\u001b[0;34m)\u001b[0m\u001b[0;34m\u001b[0m\u001b[0;34m\u001b[0m\u001b[0m\n\u001b[0m\u001b[1;32m      2\u001b[0m \u001b[0mgrades\u001b[0m \u001b[0;34m<\u001b[0m\u001b[0;34m-\u001b[0m \u001b[0mc\u001b[0m\u001b[0;34m(\u001b[0m\u001b[0;36m98\u001b[0m\u001b[0;34m,\u001b[0m \u001b[0;36m91\u001b[0m\u001b[0;34m,\u001b[0m \u001b[0;36m73\u001b[0m\u001b[0;34m,\u001b[0m \u001b[0;36m24\u001b[0m\u001b[0;34m,\u001b[0m \u001b[0;36m35\u001b[0m\u001b[0;34m,\u001b[0m \u001b[0;36m57\u001b[0m\u001b[0;34m,\u001b[0m \u001b[0;36m18\u001b[0m\u001b[0;34m,\u001b[0m \u001b[0;36m93\u001b[0m\u001b[0;34m,\u001b[0m \u001b[0;36m87\u001b[0m\u001b[0;34m,\u001b[0m \u001b[0;36m83\u001b[0m\u001b[0;34m)\u001b[0m\u001b[0;34m\u001b[0m\u001b[0;34m\u001b[0m\u001b[0m\n",
      "\u001b[0;31mNameError\u001b[0m: name 'hours' is not defined"
     ]
    }
   ],
   "source": [
    "hours <- c(10, 9, 7, 2, 3, 6, 2, 8, 11, 8)\n",
    "grades <- c(98, 91, 73, 24, 35, 57, 18, 93, 87, 83)"
   ]
  },
  {
   "cell_type": "code",
   "execution_count": 3,
   "metadata": {},
   "outputs": [
    {
     "ename": "NameError",
     "evalue": "name 'grades' is not defined",
     "output_type": "error",
     "traceback": [
      "\u001b[0;31m---------------------------------------------------------------------------\u001b[0m",
      "\u001b[0;31mNameError\u001b[0m                                 Traceback (most recent call last)",
      "\u001b[0;32m<ipython-input-3-ee84d1481b99>\u001b[0m in \u001b[0;36m<module>\u001b[0;34m\u001b[0m\n\u001b[0;32m----> 1\u001b[0;31m \u001b[0mgrades\u001b[0m\u001b[0;34m\u001b[0m\u001b[0;34m\u001b[0m\u001b[0m\n\u001b[0m\u001b[1;32m      2\u001b[0m \u001b[0mhours\u001b[0m\u001b[0;34m\u001b[0m\u001b[0;34m\u001b[0m\u001b[0m\n",
      "\u001b[0;31mNameError\u001b[0m: name 'grades' is not defined"
     ]
    }
   ],
   "source": [
    "grades\n",
    "hours"
   ]
  },
  {
   "cell_type": "markdown",
   "metadata": {},
   "source": [
    "Now, let's plot the data and see if it is linear"
   ]
  },
  {
   "cell_type": "code",
   "execution_count": 3,
   "metadata": {},
   "outputs": [
    {
     "data": {
      "image/png": "[encoded data removed]",
      "text/plain": [
       "plot without title"
      ]
     },
     "metadata": {},
     "output_type": "display_data"
    }
   ],
   "source": [
    "plot(hours, grades)"
   ]
  },
  {
   "cell_type": "markdown",
   "metadata": {},
   "source": [
    "`Questions to ask:\n",
    "\n",
    "1) What is the optimal linear model?\n",
    "\n",
    "2) What are the parameters that let Gradient Descent arrive at this optimal model?"
   ]
  },
  {
   "cell_type": "code",
   "execution_count": 4,
   "metadata": {},
   "outputs": [
    {
     "data": {
      "text/plain": [
       "\n",
       "Call:\n",
       "lm(formula = grades ~ hours)\n",
       "\n",
       "Coefficients:\n",
       "(Intercept)        hours  \n",
       "      7.253        8.886  \n"
      ]
     },
     "metadata": {},
     "output_type": "display_data"
    }
   ],
   "source": [
    "lm(grades~hours)"
   ]
  },
  {
   "cell_type": "code",
   "execution_count": 6,
   "metadata": {},
   "outputs": [
    {
     "data": {
      "image/png": "[encoded data removed]",
      "text/plain": [
       "plot without title"
      ]
     },
     "metadata": {},
     "output_type": "display_data"
    }
   ],
   "source": [
    "plot(hours, grades)\n",
    "abline(lm(grades~hours))"
   ]
  },
  {
   "cell_type": "markdown",
   "metadata": {},
   "source": [
    "The important parameters to set are initial $\\beta_0$, $\\beta_1$, $\\alpha$, and $\\epsilon$"
   ]
  },
  {
   "cell_type": "markdown",
   "metadata": {},
   "source": [
    "Let's set $\\beta_0 = 0$\n",
    "\n",
    "$\\beta_1 = 10$\n",
    "\n",
    "$\\epsilon = 0.1$\n",
    "\n",
    "and \n",
    "\n",
    "$\\alpha = 0.1$"
   ]
  },
  {
   "cell_type": "markdown",
   "metadata": {},
   "source": [
    "We will loop until $\\| \\nabla J(\\beta) \\|_2 < \\epsilon$"
   ]
  },
  {
   "cell_type": "code",
   "execution_count": 7,
   "metadata": {},
   "outputs": [],
   "source": [
    "alpha = 0.1\n",
    "epsilon = 0.1\n",
    "\n",
    "\n",
    "beta0 <- 0\n",
    "beta1 <- 10\n",
    "magGradient <- Inf\n",
    "i <- 0\n"
   ]
  },
  {
   "cell_type": "markdown",
   "metadata": {},
   "source": [
    "while (magGradient > epsilon) {\n",
    "\n",
    "i <- i+1\n",
    "\n",
    "ypred <- beta0 + beta1*hours\n",
    "\n",
    "ypred\n",
    "\n",
    "MSE <- sum(( grades - ypred )^2/2)/(length(ypred))\n",
    "\n",
    "MSE\n",
    "\n",
    "diffB0 <- sum((ypred - grades))/length(ypred)\n",
    "\n",
    "diffB0\n",
    "\n",
    "diffB1 <- sum((ypred - grades)*hours)/length(ypred)\n",
    "\n",
    "diffB1\n",
    "\n",
    "magGradient <- sqrt(diffB0^2 + diffB1^2)\n",
    "\n",
    "magGradient\n",
    "\n",
    "beta0 <- beta0 - (alpha * diffB0)\n",
    "\n",
    "beta0\n",
    "\n",
    "beta1 <- beta1 - (alpha * diffB1)\n",
    "\n",
    "beta1\n",
    "\n",
    "}\n",
    "\n",
    "#### But what happens when we run this code? Let's manually go through the first few iterations"
   ]
  },
  {
   "cell_type": "code",
   "execution_count": 13,
   "metadata": {},
   "outputs": [
    {
     "name": "stdout",
     "output_type": "stream",
     "text": [
      "Iteration: 6 New Beta 0: 189.178865658368 New Beta1: 1523.70038980471 magnitude: 18722.6258303104 \n"
     ]
    }
   ],
   "source": [
    "i <- i+1\n",
    "\n",
    "ypred <- beta0 + beta1*hours\n",
    "\n",
    "MSE <- sum(( grades - ypred )^2/2)/(length(ypred))\n",
    "\n",
    "diffB0 <- sum((ypred - grades))/length(ypred)\n",
    "\n",
    "diffB1 <- sum((ypred - grades)*hours)/length(ypred)\n",
    "\n",
    "magGradient <- sqrt(diffB0^2 + diffB1^2)\n",
    "\n",
    "beta0 <- beta0 - (alpha * diffB0)\n",
    "\n",
    "beta1 <- beta1 - (alpha * diffB1)\n",
    "\n",
    "cat(paste('Iteration:', i, 'New Beta 0:', beta0, 'New Beta1:', beta1, 'magnitude:', magGradient,'\\n'))"
   ]
  },
  {
   "cell_type": "markdown",
   "metadata": {},
   "source": [
    "We need to reset! Clearly learning rates need to be much smaller!"
   ]
  },
  {
   "cell_type": "code",
   "execution_count": 14,
   "metadata": {},
   "outputs": [],
   "source": [
    "alpha = 0.01\n",
    "epsilon = 0.1\n",
    "\n",
    "\n",
    "beta0 <- 0\n",
    "beta1 <- 10\n",
    "magGradient <- Inf\n",
    "i <- 0"
   ]
  },
  {
   "cell_type": "code",
   "execution_count": 15,
   "metadata": {},
   "outputs": [
    {
     "name": "stdout",
     "output_type": "stream",
     "text": [
      "Iteration: 1441 New Beta 0: 6.69807922386792 New Beta1: 8.95498131396601 magnitude: 0.0999869073275198 \n"
     ]
    }
   ],
   "source": [
    "while(magGradient > epsilon) {\n",
    "    i <- i+1\n",
    "\n",
    "ypred <- beta0 + beta1*hours\n",
    "\n",
    "MSE <- sum(( grades - ypred )^2/2)/(length(ypred))\n",
    "\n",
    "diffB0 <- sum((ypred - grades))/length(ypred)\n",
    "\n",
    "diffB1 <- sum((ypred - grades)*hours)/length(ypred)\n",
    "\n",
    "magGradient <- sqrt(diffB0^2 + diffB1^2)\n",
    "\n",
    "beta0 <- beta0 - (alpha * diffB0)\n",
    "\n",
    "beta1 <- beta1 - (alpha * diffB1)\n",
    "\n",
    "}\n",
    "\n",
    "\n",
    "cat(paste('Iteration:', i, 'New Beta 0:', beta0, 'New Beta1:', beta1, 'magnitude:', magGradient,'\\n'))"
   ]
  },
  {
   "cell_type": "code",
   "execution_count": 17,
   "metadata": {},
   "outputs": [
    {
     "data": {
      "image/png": "[encoded data removed]",
      "text/plain": [
       "plot without title"
      ]
     },
     "metadata": {},
     "output_type": "display_data"
    }
   ],
   "source": [
    "plot(hours, grades)\n",
    "abline(lm(grades~hours))\n",
    "abline(beta0, beta1)"
   ]
  },
  {
   "cell_type": "markdown",
   "metadata": {},
   "source": [
    "But we said Gradient Descent should get to the optimal solution! Maybe we just stopped too early?"
   ]
  },
  {
   "cell_type": "code",
   "execution_count": 22,
   "metadata": {},
   "outputs": [],
   "source": [
    "alpha = 0.01\n",
    "epsilon = 0.01\n",
    "\n",
    "\n",
    "beta0 <- 0\n",
    "beta1 <- 10\n",
    "magGradient <- Inf\n",
    "i <- 0"
   ]
  },
  {
   "cell_type": "code",
   "execution_count": 23,
   "metadata": {},
   "outputs": [
    {
     "name": "stdout",
     "output_type": "stream",
     "text": [
      "Iteration: 2731 New Beta 0: 7.19768869553379 New Beta1: 8.89279108480776 magnitude: 0.00998428927694244 \n"
     ]
    }
   ],
   "source": [
    "while(magGradient > epsilon) {\n",
    "    i <- i+1\n",
    "\n",
    "ypred <- beta0 + beta1*hours\n",
    "\n",
    "MSE <- sum(( grades - ypred )^2/2)/(length(ypred))\n",
    "\n",
    "diffB0 <- sum((ypred - grades))/length(ypred)\n",
    "\n",
    "diffB1 <- sum((ypred - grades)*hours)/length(ypred)\n",
    "\n",
    "magGradient <- sqrt(diffB0^2 + diffB1^2)\n",
    "\n",
    "beta0 <- beta0 - (alpha * diffB0)\n",
    "\n",
    "beta1 <- beta1 - (alpha * diffB1)\n",
    "\n",
    "}\n",
    "\n",
    "\n",
    "cat(paste('Iteration:', i, 'New Beta 0:', beta0, 'New Beta1:', beta1, 'magnitude:', magGradient,'\\n'))"
   ]
  },
  {
   "cell_type": "code",
   "execution_count": 24,
   "metadata": {},
   "outputs": [
    {
     "data": {
      "text/plain": [
       "\n",
       "Call:\n",
       "lm(formula = grades ~ hours)\n",
       "\n",
       "Coefficients:\n",
       "(Intercept)        hours  \n",
       "      7.253        8.886  \n"
      ]
     },
     "metadata": {},
     "output_type": "display_data"
    }
   ],
   "source": [
    "lm(grades~hours)"
   ]
  },
  {
   "cell_type": "code",
   "execution_count": 26,
   "metadata": {},
   "outputs": [
    {
     "data": {
      "image/png": "[encoded data removed]",
      "text/plain": [
       "plot without title"
      ]
     },
     "metadata": {},
     "output_type": "display_data"
    }
   ],
   "source": [
    "plot(hours, grades)\n",
    "abline(lm(grades~hours), col='blue')\n",
    "abline(beta0, beta1, col='red')"
   ]
  },
  {
   "cell_type": "markdown",
   "metadata": {},
   "source": [
    "\n",
    "\n",
    "\n",
    "\n",
    "\n",
    "\n",
    "\n",
    "\n",
    "\n",
    "# 2. Modeling"
   ]
  },
  {
   "cell_type": "markdown",
   "metadata": {},
   "source": [
    "Now, we want to look at some case studies for Logistic Regression, LDA, and KNN\n",
    "While it is important to understand the underlying optimization, it is equally important to know how to use these models on actual big data"
   ]
  },
  {
   "cell_type": "markdown",
   "metadata": {},
   "source": [
    "## Example: The Stock Market\n",
    "For this example we will load the Stock Market data available in the R package ISLR\n",
    "\n",
    "https://cran.r-project.org/web/packages/ISLR/index.html\n",
    "\n",
    "First, let's install and load the package"
   ]
  },
  {
   "cell_type": "code",
   "execution_count": 27,
   "metadata": {},
   "outputs": [
    {
     "name": "stderr",
     "output_type": "stream",
     "text": [
      "Updating HTML index of packages in '.Library'\n",
      "Making 'packages.html' ... done\n"
     ]
    }
   ],
   "source": [
    "install.packages('ISLR')\n",
    "library(ISLR)"
   ]
  },
  {
   "cell_type": "code",
   "execution_count": 28,
   "metadata": {},
   "outputs": [
    {
     "data": {
      "text/plain": [
       "      Year           Lag1                Lag2                Lag3          \n",
       " Min.   :2001   Min.   :-4.922000   Min.   :-4.922000   Min.   :-4.922000  \n",
       " 1st Qu.:2002   1st Qu.:-0.639500   1st Qu.:-0.639500   1st Qu.:-0.640000  \n",
       " Median :2003   Median : 0.039000   Median : 0.039000   Median : 0.038500  \n",
       " Mean   :2003   Mean   : 0.003834   Mean   : 0.003919   Mean   : 0.001716  \n",
       " 3rd Qu.:2004   3rd Qu.: 0.596750   3rd Qu.: 0.596750   3rd Qu.: 0.596750  \n",
       " Max.   :2005   Max.   : 5.733000   Max.   : 5.733000   Max.   : 5.733000  \n",
       "      Lag4                Lag5              Volume           Today          \n",
       " Min.   :-4.922000   Min.   :-4.92200   Min.   :0.3561   Min.   :-4.922000  \n",
       " 1st Qu.:-0.640000   1st Qu.:-0.64000   1st Qu.:1.2574   1st Qu.:-0.639500  \n",
       " Median : 0.038500   Median : 0.03850   Median :1.4229   Median : 0.038500  \n",
       " Mean   : 0.001636   Mean   : 0.00561   Mean   :1.4783   Mean   : 0.003138  \n",
       " 3rd Qu.: 0.596750   3rd Qu.: 0.59700   3rd Qu.:1.6417   3rd Qu.: 0.596750  \n",
       " Max.   : 5.733000   Max.   : 5.73300   Max.   :3.1525   Max.   : 5.733000  \n",
       " Direction \n",
       " Down:602  \n",
       " Up  :648  \n",
       "           \n",
       "           \n",
       "           \n",
       "           "
      ]
     },
     "metadata": {},
     "output_type": "display_data"
    }
   ],
   "source": [
    "summary(Smarket)"
   ]
  },
  {
   "cell_type": "markdown",
   "metadata": {},
   "source": [
    "What are we looking at here?\n",
    "\n",
    "This data set consists of percentage returns for the S&P over 1250 days from 2001 to 2005. The Lag variables represent recorded percentage returns for each of the five previous trading days as well as the trading volume, current percentage return, and the direection the market is going in general on that date"
   ]
  },
  {
   "cell_type": "code",
   "execution_count": 29,
   "metadata": {},
   "outputs": [
    {
     "ename": "ERROR",
     "evalue": "Error in cor(Smarket): 'x' must be numeric\n",
     "output_type": "error",
     "traceback": [
      "Error in cor(Smarket): 'x' must be numeric\nTraceback:\n",
      "1. cor(Smarket)",
      "2. stop(\"'x' must be numeric\")"
     ]
    }
   ],
   "source": [
    "cor(Smarket)"
   ]
  },
  {
   "cell_type": "markdown",
   "metadata": {},
   "source": [
    "What caused this error?"
   ]
  },
  {
   "cell_type": "code",
   "execution_count": 30,
   "metadata": {},
   "outputs": [
    {
     "data": {
      "text/html": [
       "<table>\n",
       "<thead><tr><th></th><th scope=col>Year</th><th scope=col>Lag1</th><th scope=col>Lag2</th><th scope=col>Lag3</th><th scope=col>Lag4</th><th scope=col>Lag5</th><th scope=col>Volume</th><th scope=col>Today</th></tr></thead>\n",
       "<tbody>\n",
       "\t<tr><th scope=row>Year</th><td>1.00000000  </td><td> 0.029699649</td><td> 0.030596422</td><td> 0.033194581</td><td> 0.035688718</td><td> 0.029787995</td><td> 0.53900647 </td><td> 0.030095229</td></tr>\n",
       "\t<tr><th scope=row>Lag1</th><td>0.02969965  </td><td> 1.000000000</td><td>-0.026294328</td><td>-0.010803402</td><td>-0.002985911</td><td>-0.005674606</td><td> 0.04090991 </td><td>-0.026155045</td></tr>\n",
       "\t<tr><th scope=row>Lag2</th><td>0.03059642  </td><td>-0.026294328</td><td> 1.000000000</td><td>-0.025896670</td><td>-0.010853533</td><td>-0.003557949</td><td>-0.04338321 </td><td>-0.010250033</td></tr>\n",
       "\t<tr><th scope=row>Lag3</th><td>0.03319458  </td><td>-0.010803402</td><td>-0.025896670</td><td> 1.000000000</td><td>-0.024051036</td><td>-0.018808338</td><td>-0.04182369 </td><td>-0.002447647</td></tr>\n",
       "\t<tr><th scope=row>Lag4</th><td>0.03568872  </td><td>-0.002985911</td><td>-0.010853533</td><td>-0.024051036</td><td> 1.000000000</td><td>-0.027083641</td><td>-0.04841425 </td><td>-0.006899527</td></tr>\n",
       "\t<tr><th scope=row>Lag5</th><td>0.02978799  </td><td>-0.005674606</td><td>-0.003557949</td><td>-0.018808338</td><td>-0.027083641</td><td> 1.000000000</td><td>-0.02200231 </td><td>-0.034860083</td></tr>\n",
       "\t<tr><th scope=row>Volume</th><td>0.53900647  </td><td> 0.040909908</td><td>-0.043383215</td><td>-0.041823686</td><td>-0.048414246</td><td>-0.022002315</td><td> 1.00000000 </td><td> 0.014591823</td></tr>\n",
       "\t<tr><th scope=row>Today</th><td>0.03009523  </td><td>-0.026155045</td><td>-0.010250033</td><td>-0.002447647</td><td>-0.006899527</td><td>-0.034860083</td><td> 0.01459182 </td><td> 1.000000000</td></tr>\n",
       "</tbody>\n",
       "</table>\n"
      ],
      "text/latex": [
       "\\begin{tabular}{r|llllllll}\n",
       "  & Year & Lag1 & Lag2 & Lag3 & Lag4 & Lag5 & Volume & Today\\\\\n",
       "\\hline\n",
       "\tYear & 1.00000000   &  0.029699649 &  0.030596422 &  0.033194581 &  0.035688718 &  0.029787995 &  0.53900647  &  0.030095229\\\\\n",
       "\tLag1 & 0.02969965   &  1.000000000 & -0.026294328 & -0.010803402 & -0.002985911 & -0.005674606 &  0.04090991  & -0.026155045\\\\\n",
       "\tLag2 & 0.03059642   & -0.026294328 &  1.000000000 & -0.025896670 & -0.010853533 & -0.003557949 & -0.04338321  & -0.010250033\\\\\n",
       "\tLag3 & 0.03319458   & -0.010803402 & -0.025896670 &  1.000000000 & -0.024051036 & -0.018808338 & -0.04182369  & -0.002447647\\\\\n",
       "\tLag4 & 0.03568872   & -0.002985911 & -0.010853533 & -0.024051036 &  1.000000000 & -0.027083641 & -0.04841425  & -0.006899527\\\\\n",
       "\tLag5 & 0.02978799   & -0.005674606 & -0.003557949 & -0.018808338 & -0.027083641 &  1.000000000 & -0.02200231  & -0.034860083\\\\\n",
       "\tVolume & 0.53900647   &  0.040909908 & -0.043383215 & -0.041823686 & -0.048414246 & -0.022002315 &  1.00000000  &  0.014591823\\\\\n",
       "\tToday & 0.03009523   & -0.026155045 & -0.010250033 & -0.002447647 & -0.006899527 & -0.034860083 &  0.01459182  &  1.000000000\\\\\n",
       "\\end{tabular}\n"
      ],
      "text/markdown": [
       "\n",
       "| <!--/--> | Year | Lag1 | Lag2 | Lag3 | Lag4 | Lag5 | Volume | Today | \n",
       "|---|---|---|---|---|---|---|---|\n",
       "| Year | 1.00000000   |  0.029699649 |  0.030596422 |  0.033194581 |  0.035688718 |  0.029787995 |  0.53900647  |  0.030095229 | \n",
       "| Lag1 | 0.02969965   |  1.000000000 | -0.026294328 | -0.010803402 | -0.002985911 | -0.005674606 |  0.04090991  | -0.026155045 | \n",
       "| Lag2 | 0.03059642   | -0.026294328 |  1.000000000 | -0.025896670 | -0.010853533 | -0.003557949 | -0.04338321  | -0.010250033 | \n",
       "| Lag3 | 0.03319458   | -0.010803402 | -0.025896670 |  1.000000000 | -0.024051036 | -0.018808338 | -0.04182369  | -0.002447647 | \n",
       "| Lag4 | 0.03568872   | -0.002985911 | -0.010853533 | -0.024051036 |  1.000000000 | -0.027083641 | -0.04841425  | -0.006899527 | \n",
       "| Lag5 | 0.02978799   | -0.005674606 | -0.003557949 | -0.018808338 | -0.027083641 |  1.000000000 | -0.02200231  | -0.034860083 | \n",
       "| Volume | 0.53900647   |  0.040909908 | -0.043383215 | -0.041823686 | -0.048414246 | -0.022002315 |  1.00000000  |  0.014591823 | \n",
       "| Today | 0.03009523   | -0.026155045 | -0.010250033 | -0.002447647 | -0.006899527 | -0.034860083 |  0.01459182  |  1.000000000 | \n",
       "\n",
       "\n"
      ],
      "text/plain": [
       "       Year       Lag1         Lag2         Lag3         Lag4        \n",
       "Year   1.00000000  0.029699649  0.030596422  0.033194581  0.035688718\n",
       "Lag1   0.02969965  1.000000000 -0.026294328 -0.010803402 -0.002985911\n",
       "Lag2   0.03059642 -0.026294328  1.000000000 -0.025896670 -0.010853533\n",
       "Lag3   0.03319458 -0.010803402 -0.025896670  1.000000000 -0.024051036\n",
       "Lag4   0.03568872 -0.002985911 -0.010853533 -0.024051036  1.000000000\n",
       "Lag5   0.02978799 -0.005674606 -0.003557949 -0.018808338 -0.027083641\n",
       "Volume 0.53900647  0.040909908 -0.043383215 -0.041823686 -0.048414246\n",
       "Today  0.03009523 -0.026155045 -0.010250033 -0.002447647 -0.006899527\n",
       "       Lag5         Volume      Today       \n",
       "Year    0.029787995  0.53900647  0.030095229\n",
       "Lag1   -0.005674606  0.04090991 -0.026155045\n",
       "Lag2   -0.003557949 -0.04338321 -0.010250033\n",
       "Lag3   -0.018808338 -0.04182369 -0.002447647\n",
       "Lag4   -0.027083641 -0.04841425 -0.006899527\n",
       "Lag5    1.000000000 -0.02200231 -0.034860083\n",
       "Volume -0.022002315  1.00000000  0.014591823\n",
       "Today  -0.034860083  0.01459182  1.000000000"
      ]
     },
     "metadata": {},
     "output_type": "display_data"
    }
   ],
   "source": [
    "cor(Smarket[,-9])"
   ]
  },
  {
   "cell_type": "markdown",
   "metadata": {},
   "source": [
    "### Important Question: Are there any correlations? are we going to be rich?\n",
    ".\n",
    "\n",
    ".\n",
    "\n",
    ".\n",
    "\n",
    ".\n",
    "\n",
    ".\n",
    "\n",
    ".\n",
    "\n",
    ".\n",
    "\n",
    ".\n",
    "\n",
    "sadly no."
   ]
  },
  {
   "cell_type": "code",
   "execution_count": 33,
   "metadata": {},
   "outputs": [
    {
     "name": "stderr",
     "output_type": "stream",
     "text": [
      "The following objects are masked from Smarket (pos = 3):\n",
      "\n",
      "    Direction, Lag1, Lag2, Lag3, Lag4, Lag5, Today, Volume, Year\n",
      "\n",
      "The following objects are masked from Smarket (pos = 4):\n",
      "\n",
      "    Direction, Lag1, Lag2, Lag3, Lag4, Lag5, Today, Volume, Year\n",
      "\n"
     ]
    },
    {
     "data": {
      "image/png": "[encoded data removed]",
      "text/plain": [
       "plot without title"
      ]
     },
     "metadata": {},
     "output_type": "display_data"
    }
   ],
   "source": [
    "attach(Smarket)\n",
    "plot(Volume)"
   ]
  },
  {
   "cell_type": "markdown",
   "metadata": {},
   "source": [
    "## Logistic Regression\n",
    "\n",
    "Important R Function glm (built in)\n",
    "\n",
    "Let's see if there is a relationship between returns on prior days and the direction of the market on a given day"
   ]
  },
  {
   "cell_type": "code",
   "execution_count": 34,
   "metadata": {},
   "outputs": [],
   "source": [
    "glm.model <- glm(Direction~Lag1+Lag2+Lag3+Lag4+Lag5+Volume, data=Smarket, family=binomial)"
   ]
  },
  {
   "cell_type": "code",
   "execution_count": 35,
   "metadata": {},
   "outputs": [
    {
     "data": {
      "text/plain": [
       "\n",
       "Call:\n",
       "glm(formula = Direction ~ Lag1 + Lag2 + Lag3 + Lag4 + Lag5 + \n",
       "    Volume, family = binomial, data = Smarket)\n",
       "\n",
       "Deviance Residuals: \n",
       "   Min      1Q  Median      3Q     Max  \n",
       "-1.446  -1.203   1.065   1.145   1.326  \n",
       "\n",
       "Coefficients:\n",
       "             Estimate Std. Error z value Pr(>|z|)\n",
       "(Intercept) -0.126000   0.240736  -0.523    0.601\n",
       "Lag1        -0.073074   0.050167  -1.457    0.145\n",
       "Lag2        -0.042301   0.050086  -0.845    0.398\n",
       "Lag3         0.011085   0.049939   0.222    0.824\n",
       "Lag4         0.009359   0.049974   0.187    0.851\n",
       "Lag5         0.010313   0.049511   0.208    0.835\n",
       "Volume       0.135441   0.158360   0.855    0.392\n",
       "\n",
       "(Dispersion parameter for binomial family taken to be 1)\n",
       "\n",
       "    Null deviance: 1731.2  on 1249  degrees of freedom\n",
       "Residual deviance: 1727.6  on 1243  degrees of freedom\n",
       "AIC: 1741.6\n",
       "\n",
       "Number of Fisher Scoring iterations: 3\n"
      ]
     },
     "metadata": {},
     "output_type": "display_data"
    }
   ],
   "source": [
    "summary(glm.model)"
   ]
  },
  {
   "cell_type": "markdown",
   "metadata": {},
   "source": [
    "Reminder z-value (z-statistic) is effectively the t-statistic for linear regression\n",
    "\n",
    "From that, we then know to analyze the p-values, and find that the smallest is with Lag1 but none are great. Seems there is no association between prior days and the current day"
   ]
  },
  {
   "cell_type": "code",
   "execution_count": 36,
   "metadata": {},
   "outputs": [
    {
     "data": {
      "text/html": [
       "<dl class=dl-horizontal>\n",
       "\t<dt>(Intercept)</dt>\n",
       "\t\t<dd>-0.126000256559266</dd>\n",
       "\t<dt>Lag1</dt>\n",
       "\t\t<dd>-0.0730737458900261</dd>\n",
       "\t<dt>Lag2</dt>\n",
       "\t\t<dd>-0.0423013440073083</dd>\n",
       "\t<dt>Lag3</dt>\n",
       "\t\t<dd>0.0110851083796762</dd>\n",
       "\t<dt>Lag4</dt>\n",
       "\t\t<dd>0.00935893837027871</dd>\n",
       "\t<dt>Lag5</dt>\n",
       "\t\t<dd>0.0103130684758179</dd>\n",
       "\t<dt>Volume</dt>\n",
       "\t\t<dd>0.13544065885916</dd>\n",
       "</dl>\n"
      ],
      "text/latex": [
       "\\begin{description*}\n",
       "\\item[(Intercept)] -0.126000256559266\n",
       "\\item[Lag1] -0.0730737458900261\n",
       "\\item[Lag2] -0.0423013440073083\n",
       "\\item[Lag3] 0.0110851083796762\n",
       "\\item[Lag4] 0.00935893837027871\n",
       "\\item[Lag5] 0.0103130684758179\n",
       "\\item[Volume] 0.13544065885916\n",
       "\\end{description*}\n"
      ],
      "text/markdown": [
       "(Intercept)\n",
       ":   -0.126000256559266Lag1\n",
       ":   -0.0730737458900261Lag2\n",
       ":   -0.0423013440073083Lag3\n",
       ":   0.0110851083796762Lag4\n",
       ":   0.00935893837027871Lag5\n",
       ":   0.0103130684758179Volume\n",
       ":   0.13544065885916\n",
       "\n"
      ],
      "text/plain": [
       " (Intercept)         Lag1         Lag2         Lag3         Lag4         Lag5 \n",
       "-0.126000257 -0.073073746 -0.042301344  0.011085108  0.009358938  0.010313068 \n",
       "      Volume \n",
       " 0.135440659 "
      ]
     },
     "metadata": {},
     "output_type": "display_data"
    }
   ],
   "source": [
    "coef(glm.model)"
   ]
  },
  {
   "cell_type": "markdown",
   "metadata": {},
   "source": [
    "Are the model coefficients"
   ]
  },
  {
   "cell_type": "markdown",
   "metadata": {},
   "source": [
    "`Now, let's see how well it predicts (we assume not well)"
   ]
  },
  {
   "cell_type": "code",
   "execution_count": 37,
   "metadata": {},
   "outputs": [],
   "source": [
    "glm.probs <- predict(glm.model, type='response')"
   ]
  },
  {
   "cell_type": "code",
   "execution_count": 38,
   "metadata": {},
   "outputs": [
    {
     "data": {
      "text/plain": [
       "   Min. 1st Qu.  Median    Mean 3rd Qu.    Max. \n",
       " 0.4084  0.5020  0.5180  0.5184  0.5338  0.6486 "
      ]
     },
     "metadata": {},
     "output_type": "display_data"
    }
   ],
   "source": [
    "summary(glm.probs)"
   ]
  },
  {
   "cell_type": "markdown",
   "metadata": {},
   "source": [
    "What does the confusion matrix look like?"
   ]
  },
  {
   "cell_type": "code",
   "execution_count": 40,
   "metadata": {},
   "outputs": [
    {
     "data": {
      "text/plain": [
       "              Direction\n",
       "glm.prediction Down  Up\n",
       "          Down  145 141\n",
       "          Up    457 507"
      ]
     },
     "metadata": {},
     "output_type": "display_data"
    }
   ],
   "source": [
    "glm.prediction <- rep('Down', length(glm.probs))\n",
    "glm.prediction[which(glm.probs > 0.5)] = 'Up'\n",
    "table(glm.prediction, Direction)"
   ]
  },
  {
   "cell_type": "markdown",
   "metadata": {},
   "source": [
    "Now let's evaluate the metrics we discussed. As a reminder:\n",
    "\n",
    "Accuracy = $\\frac{TP + TN}{TP + TN + FP + FN}$\n",
    "\n",
    "Precision = $\\frac{TP}{TP+FP}$\n",
    "\n",
    "Recall $=$ Sensitivity $=$ True Positive Rate $= \\frac{TP}{TP + FN}$\n",
    "\n",
    "Specificity $=$ True Negative Rate $= \\frac{TN}{TN + FP} = 1-FPR$\n",
    "\n",
    "False Positive Rate (FPR) $= \\frac{FP}{FP + TN}$ \n",
    "\n",
    "F1 Score $= 2 \\times \\frac{Precision \\times Recall}{Precision + Recall}$\n"
   ]
  },
  {
   "cell_type": "code",
   "execution_count": 41,
   "metadata": {},
   "outputs": [],
   "source": [
    "TP = 507\n",
    "TN = 145\n",
    "FP = 457\n",
    "FN = 141\n",
    "\n",
    "Accuracy = (TP + TN)/(TP + TN + FP + FN)\n",
    "Precision = (TP)/(TP + FP)\n",
    "Recall = (TP)/(TP + FN)"
   ]
  },
  {
   "cell_type": "code",
   "execution_count": 42,
   "metadata": {},
   "outputs": [
    {
     "name": "stdout",
     "output_type": "stream",
     "text": [
      "Accuracy: 0.5216 Precision: 0.525933609958506 Recall: 0.782407407407407 \n"
     ]
    }
   ],
   "source": [
    "cat(paste('Accuracy:', Accuracy, 'Precision:', Precision, 'Recall:', Recall, '\\n'))"
   ]
  },
  {
   "cell_type": "markdown",
   "metadata": {},
   "source": [
    "Can we do any better with a different threshold?"
   ]
  },
  {
   "cell_type": "code",
   "execution_count": 43,
   "metadata": {},
   "outputs": [
    {
     "name": "stderr",
     "output_type": "stream",
     "text": [
      "Updating HTML index of packages in '.Library'\n",
      "Making 'packages.html' ... done\n",
      "Type 'citation(\"pROC\")' for a citation.\n",
      "\n",
      "Attaching package: ‘pROC’\n",
      "\n",
      "The following objects are masked from ‘package:stats’:\n",
      "\n",
      "    cov, smooth, var\n",
      "\n"
     ]
    }
   ],
   "source": [
    "install.packages('pROC')\n",
    "library(pROC)"
   ]
  },
  {
   "cell_type": "code",
   "execution_count": 44,
   "metadata": {},
   "outputs": [
    {
     "data": {
      "image/png": "[encoded data removed]",
      "text/plain": [
       "plot without title"
      ]
     },
     "metadata": {},
     "output_type": "display_data"
    }
   ],
   "source": [
    "plot(roc(Smarket$Direction, glm.probs))"
   ]
  },
  {
   "cell_type": "markdown",
   "metadata": {},
   "source": [
    "It doesn't seem like any particular threshold would do better\n",
    "\n",
    "What other mistakes did we make?"
   ]
  },
  {
   "cell_type": "code",
   "execution_count": 46,
   "metadata": {},
   "outputs": [],
   "source": [
    "train = (Year<2005)\n",
    "Smarket.train = Smarket[train,]\n",
    "Direction.train = Direction[train]\n",
    "Smarket.test = Smarket[!train,]\n",
    "Direction.test = Direction[!train]"
   ]
  },
  {
   "cell_type": "code",
   "execution_count": 48,
   "metadata": {},
   "outputs": [
    {
     "data": {
      "text/html": [
       "<ol class=list-inline>\n",
       "\t<li>998</li>\n",
       "\t<li>9</li>\n",
       "</ol>\n"
      ],
      "text/latex": [
       "\\begin{enumerate*}\n",
       "\\item 998\n",
       "\\item 9\n",
       "\\end{enumerate*}\n"
      ],
      "text/markdown": [
       "1. 998\n",
       "2. 9\n",
       "\n",
       "\n"
      ],
      "text/plain": [
       "[1] 998   9"
      ]
     },
     "metadata": {},
     "output_type": "display_data"
    },
    {
     "data": {
      "text/html": [
       "<ol class=list-inline>\n",
       "\t<li>252</li>\n",
       "\t<li>9</li>\n",
       "</ol>\n"
      ],
      "text/latex": [
       "\\begin{enumerate*}\n",
       "\\item 252\n",
       "\\item 9\n",
       "\\end{enumerate*}\n"
      ],
      "text/markdown": [
       "1. 252\n",
       "2. 9\n",
       "\n",
       "\n"
      ],
      "text/plain": [
       "[1] 252   9"
      ]
     },
     "metadata": {},
     "output_type": "display_data"
    }
   ],
   "source": [
    "dim(Smarket.train)\n",
    "dim(Smarket.test)"
   ]
  },
  {
   "cell_type": "code",
   "execution_count": 49,
   "metadata": {},
   "outputs": [],
   "source": [
    "glm.model = glm(Direction~Lag1+Lag2+Lag3+Lag4+Lag5+Volume, data=Smarket, family=binomial, subset=train)"
   ]
  },
  {
   "cell_type": "code",
   "execution_count": 50,
   "metadata": {},
   "outputs": [],
   "source": [
    "glm.probs = predict(glm.model, Smarket.test, type='response')"
   ]
  },
  {
   "cell_type": "code",
   "execution_count": 52,
   "metadata": {},
   "outputs": [
    {
     "data": {
      "text/plain": [
       "              Direction.test\n",
       "glm.prediction Down Up\n",
       "          Down   77 97\n",
       "          Up     34 44"
      ]
     },
     "metadata": {},
     "output_type": "display_data"
    }
   ],
   "source": [
    "glm.prediction <- rep('Down', length(glm.probs))\n",
    "glm.prediction[which(glm.probs > 0.5)] = 'Up'\n",
    "table(glm.prediction, Direction.test)"
   ]
  },
  {
   "cell_type": "code",
   "execution_count": 54,
   "metadata": {},
   "outputs": [
    {
     "name": "stdout",
     "output_type": "stream",
     "text": [
      "Accuracy: 0.48015873015873 Precision: 0.564102564102564 Recall: 0.312056737588652 \n"
     ]
    }
   ],
   "source": [
    "TP = sum(length(which(glm.prediction=='Up' & Direction.test == 'Up')))\n",
    "FP = sum(length(which(glm.prediction=='Up' & Direction.test == 'Down')))\n",
    "\n",
    "TN = sum(length(which(glm.prediction=='Down' & Direction.test == 'Down')))\n",
    "FN = sum(length(which(glm.prediction=='Down' & Direction.test == 'Up')))\n",
    "\n",
    "Accuracy = (TP + TN)/(TP + TN + FP + FN)\n",
    "Precision = (TP)/(TP + FP)\n",
    "Recall = (TP)/(TP + FN)\n",
    "cat(paste('Accuracy:', Accuracy, 'Precision:', Precision, 'Recall:', Recall, '\\n'))"
   ]
  },
  {
   "cell_type": "markdown",
   "metadata": {},
   "source": [
    "So our accuracy has gotten even worse!"
   ]
  },
  {
   "cell_type": "code",
   "execution_count": 55,
   "metadata": {},
   "outputs": [
    {
     "data": {
      "image/png": "[encoded data removed]",
      "text/plain": [
       "plot without title"
      ]
     },
     "metadata": {},
     "output_type": "display_data"
    }
   ],
   "source": [
    "plot(roc(Direction.test, glm.probs))"
   ]
  },
  {
   "cell_type": "markdown",
   "metadata": {},
   "source": [
    "Let's look at the model coefficients again"
   ]
  },
  {
   "cell_type": "code",
   "execution_count": 56,
   "metadata": {},
   "outputs": [
    {
     "data": {
      "text/plain": [
       "\n",
       "Call:\n",
       "glm(formula = Direction ~ Lag1 + Lag2 + Lag3 + Lag4 + Lag5 + \n",
       "    Volume, family = binomial, data = Smarket, subset = train)\n",
       "\n",
       "Deviance Residuals: \n",
       "   Min      1Q  Median      3Q     Max  \n",
       "-1.302  -1.190   1.079   1.160   1.350  \n",
       "\n",
       "Coefficients:\n",
       "             Estimate Std. Error z value Pr(>|z|)\n",
       "(Intercept)  0.191213   0.333690   0.573    0.567\n",
       "Lag1        -0.054178   0.051785  -1.046    0.295\n",
       "Lag2        -0.045805   0.051797  -0.884    0.377\n",
       "Lag3         0.007200   0.051644   0.139    0.889\n",
       "Lag4         0.006441   0.051706   0.125    0.901\n",
       "Lag5        -0.004223   0.051138  -0.083    0.934\n",
       "Volume      -0.116257   0.239618  -0.485    0.628\n",
       "\n",
       "(Dispersion parameter for binomial family taken to be 1)\n",
       "\n",
       "    Null deviance: 1383.3  on 997  degrees of freedom\n",
       "Residual deviance: 1381.1  on 991  degrees of freedom\n",
       "AIC: 1395.1\n",
       "\n",
       "Number of Fisher Scoring iterations: 3\n"
      ]
     },
     "metadata": {},
     "output_type": "display_data"
    }
   ],
   "source": [
    "summary(glm.model)"
   ]
  },
  {
   "cell_type": "markdown",
   "metadata": {},
   "source": [
    "Let's remove those with p-values that are high"
   ]
  },
  {
   "cell_type": "code",
   "execution_count": 61,
   "metadata": {},
   "outputs": [
    {
     "data": {
      "image/png": "[encoded data removed]",
      "text/plain": [
       "plot without title"
      ]
     },
     "metadata": {},
     "output_type": "display_data"
    }
   ],
   "source": [
    "glm.sub = glm(Direction~Lag1+Lag2, data=Smarket, family=binomial, subset=train)\n",
    "glm.prob = predict(glm.sub, Smarket.test, type='response')\n",
    "plot(roc(Direction.test, glm.prob))\n"
   ]
  },
  {
   "cell_type": "code",
   "execution_count": 63,
   "metadata": {},
   "outputs": [
    {
     "name": "stdout",
     "output_type": "stream",
     "text": [
      "Accuracy: 0.55952380952381 Precision: 0.582417582417582 Recall: 0.75177304964539 \n"
     ]
    }
   ],
   "source": [
    "glm.prediction <- rep('Down', length(glm.prob))\n",
    "glm.prediction[glm.prob > 0.5] <- 'Up'\n",
    "TP = sum(length(which(glm.prediction=='Up' & Direction.test == 'Up')))\n",
    "FP = sum(length(which(glm.prediction=='Up' & Direction.test == 'Down')))\n",
    "\n",
    "TN = sum(length(which(glm.prediction=='Down' & Direction.test == 'Down')))\n",
    "FN = sum(length(which(glm.prediction=='Down' & Direction.test == 'Up')))\n",
    "\n",
    "Accuracy = (TP + TN)/(TP + TN + FP + FN)\n",
    "Precision = (TP)/(TP + FP)\n",
    "Recall = (TP)/(TP + FN)\n",
    "cat(paste('Accuracy:', Accuracy, 'Precision:', Precision, 'Recall:', Recall, '\\n'))"
   ]
  },
  {
   "cell_type": "markdown",
   "metadata": {},
   "source": [
    "# LDA"
   ]
  },
  {
   "cell_type": "code",
   "execution_count": 64,
   "metadata": {},
   "outputs": [
    {
     "name": "stderr",
     "output_type": "stream",
     "text": [
      "Updating HTML index of packages in '.Library'\n",
      "Making 'packages.html' ... done\n"
     ]
    }
   ],
   "source": [
    "install.packages('MASS')\n",
    "library(MASS)"
   ]
  },
  {
   "cell_type": "code",
   "execution_count": 66,
   "metadata": {},
   "outputs": [
    {
     "data": {
      "text/plain": [
       "Call:\n",
       "lda(Direction ~ Lag1 + Lag2, data = Smarket, subset = train)\n",
       "\n",
       "Prior probabilities of groups:\n",
       "    Down       Up \n",
       "0.491984 0.508016 \n",
       "\n",
       "Group means:\n",
       "            Lag1        Lag2\n",
       "Down  0.04279022  0.03389409\n",
       "Up   -0.03954635 -0.03132544\n",
       "\n",
       "Coefficients of linear discriminants:\n",
       "            LD1\n",
       "Lag1 -0.6420190\n",
       "Lag2 -0.5135293"
      ]
     },
     "metadata": {},
     "output_type": "display_data"
    }
   ],
   "source": [
    "lda.model = lda(Direction~Lag1+Lag2, data=Smarket, subset=train)\n",
    "lda.model"
   ]
  },
  {
   "cell_type": "code",
   "execution_count": 67,
   "metadata": {},
   "outputs": [
    {
     "data": {
      "text/html": [
       "<ol class=list-inline>\n",
       "\t<li>'class'</li>\n",
       "\t<li>'posterior'</li>\n",
       "\t<li>'x'</li>\n",
       "</ol>\n"
      ],
      "text/latex": [
       "\\begin{enumerate*}\n",
       "\\item 'class'\n",
       "\\item 'posterior'\n",
       "\\item 'x'\n",
       "\\end{enumerate*}\n"
      ],
      "text/markdown": [
       "1. 'class'\n",
       "2. 'posterior'\n",
       "3. 'x'\n",
       "\n",
       "\n"
      ],
      "text/plain": [
       "[1] \"class\"     \"posterior\" \"x\"        "
      ]
     },
     "metadata": {},
     "output_type": "display_data"
    }
   ],
   "source": [
    "lda.pred = predict(lda.model, Smarket.test)\n",
    "names(lda.pred)"
   ]
  },
  {
   "cell_type": "code",
   "execution_count": 68,
   "metadata": {},
   "outputs": [
    {
     "data": {
      "text/plain": [
       "         Direction.test\n",
       "lda.class Down  Up\n",
       "     Down   35  35\n",
       "     Up     76 106"
      ]
     },
     "metadata": {},
     "output_type": "display_data"
    }
   ],
   "source": [
    "lda.class = lda.pred$class\n",
    "table(lda.class, Direction.test)"
   ]
  },
  {
   "cell_type": "code",
   "execution_count": 69,
   "metadata": {},
   "outputs": [
    {
     "name": "stdout",
     "output_type": "stream",
     "text": [
      "Accuracy: 0.55952380952381 Precision: 0.582417582417582 Recall: 0.75177304964539 \n"
     ]
    }
   ],
   "source": [
    "TP = sum(length(which(lda.class=='Up' & Direction.test == 'Up')))\n",
    "FP = sum(length(which(lda.class=='Up' & Direction.test == 'Down')))\n",
    "\n",
    "TN = sum(length(which(lda.class=='Down' & Direction.test == 'Down')))\n",
    "FN = sum(length(which(lda.class=='Down' & Direction.test == 'Up')))\n",
    "\n",
    "Accuracy = (TP + TN)/(TP + TN + FP + FN)\n",
    "Precision = (TP)/(TP + FP)\n",
    "Recall = (TP)/(TP + FN)\n",
    "cat(paste('Accuracy:', Accuracy, 'Precision:', Precision, 'Recall:', Recall, '\\n'))"
   ]
  },
  {
   "cell_type": "code",
   "execution_count": 70,
   "metadata": {},
   "outputs": [
    {
     "data": {
      "text/html": [
       "<dl class=dl-horizontal>\n",
       "\t<dt>999</dt>\n",
       "\t\t<dd>0.490179249818258</dd>\n",
       "\t<dt>1000</dt>\n",
       "\t\t<dd>0.479218499099683</dd>\n",
       "\t<dt>1001</dt>\n",
       "\t\t<dd>0.466818479852065</dd>\n",
       "\t<dt>1002</dt>\n",
       "\t\t<dd>0.474001069455248</dd>\n",
       "\t<dt>1003</dt>\n",
       "\t\t<dd>0.492787663967445</dd>\n",
       "\t<dt>1004</dt>\n",
       "\t\t<dd>0.493856154997504</dd>\n",
       "\t<dt>1005</dt>\n",
       "\t\t<dd>0.495101564646223</dd>\n",
       "\t<dt>1006</dt>\n",
       "\t\t<dd>0.487286099421815</dd>\n",
       "\t<dt>1007</dt>\n",
       "\t\t<dd>0.490701348960405</dd>\n",
       "\t<dt>1008</dt>\n",
       "\t\t<dd>0.484402624071869</dd>\n",
       "\t<dt>1009</dt>\n",
       "\t\t<dd>0.490696276120968</dd>\n",
       "\t<dt>1010</dt>\n",
       "\t\t<dd>0.511998846261919</dd>\n",
       "\t<dt>1011</dt>\n",
       "\t\t<dd>0.489515226936648</dd>\n",
       "\t<dt>1012</dt>\n",
       "\t\t<dd>0.470676122211879</dd>\n",
       "\t<dt>1013</dt>\n",
       "\t\t<dd>0.474459285611829</dd>\n",
       "\t<dt>1014</dt>\n",
       "\t\t<dd>0.479958339148108</dd>\n",
       "\t<dt>1015</dt>\n",
       "\t\t<dd>0.493577529465861</dd>\n",
       "\t<dt>1016</dt>\n",
       "\t\t<dd>0.503089377118306</dd>\n",
       "\t<dt>1017</dt>\n",
       "\t\t<dd>0.497880612141404</dd>\n",
       "\t<dt>1018</dt>\n",
       "\t\t<dd>0.488633086516518</dd>\n",
       "</dl>\n"
      ],
      "text/latex": [
       "\\begin{description*}\n",
       "\\item[999] 0.490179249818258\n",
       "\\item[1000] 0.479218499099683\n",
       "\\item[1001] 0.466818479852065\n",
       "\\item[1002] 0.474001069455248\n",
       "\\item[1003] 0.492787663967445\n",
       "\\item[1004] 0.493856154997504\n",
       "\\item[1005] 0.495101564646223\n",
       "\\item[1006] 0.487286099421815\n",
       "\\item[1007] 0.490701348960405\n",
       "\\item[1008] 0.484402624071869\n",
       "\\item[1009] 0.490696276120968\n",
       "\\item[1010] 0.511998846261919\n",
       "\\item[1011] 0.489515226936648\n",
       "\\item[1012] 0.470676122211879\n",
       "\\item[1013] 0.474459285611829\n",
       "\\item[1014] 0.479958339148108\n",
       "\\item[1015] 0.493577529465861\n",
       "\\item[1016] 0.503089377118306\n",
       "\\item[1017] 0.497880612141404\n",
       "\\item[1018] 0.488633086516518\n",
       "\\end{description*}\n"
      ],
      "text/markdown": [
       "999\n",
       ":   0.4901792498182581000\n",
       ":   0.4792184990996831001\n",
       ":   0.4668184798520651002\n",
       ":   0.4740010694552481003\n",
       ":   0.4927876639674451004\n",
       ":   0.4938561549975041005\n",
       ":   0.4951015646462231006\n",
       ":   0.4872860994218151007\n",
       ":   0.4907013489604051008\n",
       ":   0.4844026240718691009\n",
       ":   0.4906962761209681010\n",
       ":   0.5119988462619191011\n",
       ":   0.4895152269366481012\n",
       ":   0.4706761222118791013\n",
       ":   0.4744592856118291014\n",
       ":   0.4799583391481081015\n",
       ":   0.4935775294658611016\n",
       ":   0.5030893771183061017\n",
       ":   0.4978806121414041018\n",
       ":   0.488633086516518\n",
       "\n"
      ],
      "text/plain": [
       "      999      1000      1001      1002      1003      1004      1005      1006 \n",
       "0.4901792 0.4792185 0.4668185 0.4740011 0.4927877 0.4938562 0.4951016 0.4872861 \n",
       "     1007      1008      1009      1010      1011      1012      1013      1014 \n",
       "0.4907013 0.4844026 0.4906963 0.5119988 0.4895152 0.4706761 0.4744593 0.4799583 \n",
       "     1015      1016      1017      1018 \n",
       "0.4935775 0.5030894 0.4978806 0.4886331 "
      ]
     },
     "metadata": {},
     "output_type": "display_data"
    }
   ],
   "source": [
    "lda.pred$posterior[1:20,1]"
   ]
  },
  {
   "cell_type": "code",
   "execution_count": 71,
   "metadata": {},
   "outputs": [
    {
     "data": {
      "text/html": [
       "<ol class=list-inline>\n",
       "\t<li>Up</li>\n",
       "\t<li>Up</li>\n",
       "\t<li>Up</li>\n",
       "\t<li>Up</li>\n",
       "\t<li>Up</li>\n",
       "\t<li>Up</li>\n",
       "\t<li>Up</li>\n",
       "\t<li>Up</li>\n",
       "\t<li>Up</li>\n",
       "\t<li>Up</li>\n",
       "\t<li>Up</li>\n",
       "\t<li>Down</li>\n",
       "\t<li>Up</li>\n",
       "\t<li>Up</li>\n",
       "\t<li>Up</li>\n",
       "\t<li>Up</li>\n",
       "\t<li>Up</li>\n",
       "\t<li>Down</li>\n",
       "\t<li>Up</li>\n",
       "\t<li>Up</li>\n",
       "</ol>\n",
       "\n",
       "<details>\n",
       "\t<summary style=display:list-item;cursor:pointer>\n",
       "\t\t<strong>Levels</strong>:\n",
       "\t</summary>\n",
       "\t<ol class=list-inline>\n",
       "\t\t<li>'Down'</li>\n",
       "\t\t<li>'Up'</li>\n",
       "\t</ol>\n",
       "</details>"
      ],
      "text/latex": [
       "\\begin{enumerate*}\n",
       "\\item Up\n",
       "\\item Up\n",
       "\\item Up\n",
       "\\item Up\n",
       "\\item Up\n",
       "\\item Up\n",
       "\\item Up\n",
       "\\item Up\n",
       "\\item Up\n",
       "\\item Up\n",
       "\\item Up\n",
       "\\item Down\n",
       "\\item Up\n",
       "\\item Up\n",
       "\\item Up\n",
       "\\item Up\n",
       "\\item Up\n",
       "\\item Down\n",
       "\\item Up\n",
       "\\item Up\n",
       "\\end{enumerate*}\n",
       "\n",
       "\\emph{Levels}: \\begin{enumerate*}\n",
       "\\item 'Down'\n",
       "\\item 'Up'\n",
       "\\end{enumerate*}\n"
      ],
      "text/markdown": [
       "1. Up\n",
       "2. Up\n",
       "3. Up\n",
       "4. Up\n",
       "5. Up\n",
       "6. Up\n",
       "7. Up\n",
       "8. Up\n",
       "9. Up\n",
       "10. Up\n",
       "11. Up\n",
       "12. Down\n",
       "13. Up\n",
       "14. Up\n",
       "15. Up\n",
       "16. Up\n",
       "17. Up\n",
       "18. Down\n",
       "19. Up\n",
       "20. Up\n",
       "\n",
       "\n",
       "\n",
       "**Levels**: 1. 'Down'\n",
       "2. 'Up'\n",
       "\n",
       "\n"
      ],
      "text/plain": [
       " [1] Up   Up   Up   Up   Up   Up   Up   Up   Up   Up   Up   Down Up   Up   Up  \n",
       "[16] Up   Up   Down Up   Up  \n",
       "Levels: Down Up"
      ]
     },
     "metadata": {},
     "output_type": "display_data"
    }
   ],
   "source": [
    "lda.class[1:20]"
   ]
  },
  {
   "cell_type": "code",
   "execution_count": 72,
   "metadata": {},
   "outputs": [
    {
     "data": {
      "text/html": [
       "0.542213255451898"
      ],
      "text/latex": [
       "0.542213255451898"
      ],
      "text/markdown": [
       "0.542213255451898"
      ],
      "text/plain": [
       "[1] 0.5422133"
      ]
     },
     "metadata": {},
     "output_type": "display_data"
    }
   ],
   "source": [
    "max(lda.pred$posterior)"
   ]
  },
  {
   "cell_type": "code",
   "execution_count": 75,
   "metadata": {},
   "outputs": [
    {
     "data": {
      "image/png": "[encoded data removed]",
      "text/plain": [
       "plot without title"
      ]
     },
     "metadata": {},
     "output_type": "display_data"
    }
   ],
   "source": [
    "plot(roc(Direction.test, lda.pred$posterior[,2]))"
   ]
  },
  {
   "cell_type": "markdown",
   "metadata": {},
   "source": [
    "# K-Nearest Neighbor"
   ]
  },
  {
   "cell_type": "code",
   "execution_count": 76,
   "metadata": {},
   "outputs": [
    {
     "name": "stderr",
     "output_type": "stream",
     "text": [
      "Updating HTML index of packages in '.Library'\n",
      "Making 'packages.html' ... done\n"
     ]
    }
   ],
   "source": [
    "install.packages('class')\n",
    "library(class)"
   ]
  },
  {
   "cell_type": "code",
   "execution_count": 77,
   "metadata": {},
   "outputs": [],
   "source": [
    "train.X = cbind(Lag1, Lag2)[train,]\n",
    "test.X = cbind(Lag1,Lag2)[!train,]\n",
    "train.Direction = Direction[train]\n",
    "test.Direction = Direction[!train]"
   ]
  },
  {
   "cell_type": "code",
   "execution_count": 78,
   "metadata": {},
   "outputs": [
    {
     "data": {
      "text/plain": [
       "        test.Direction\n",
       "knn.pred Down Up\n",
       "    Down   43 58\n",
       "    Up     68 83"
      ]
     },
     "metadata": {},
     "output_type": "display_data"
    }
   ],
   "source": [
    "set.seed(1)\n",
    "knn.pred = knn(train.X, test.X, train.Direction, k=1)\n",
    "table(knn.pred, test.Direction)"
   ]
  },
  {
   "cell_type": "code",
   "execution_count": 80,
   "metadata": {},
   "outputs": [
    {
     "name": "stdout",
     "output_type": "stream",
     "text": [
      "Accuracy: 0.5 Precision: 0.549668874172185 Recall: 0.588652482269504 \n"
     ]
    }
   ],
   "source": [
    "TP = sum(length(which(knn.pred=='Up' & Direction.test == 'Up')))\n",
    "FP = sum(length(which(knn.pred=='Up' & Direction.test == 'Down')))\n",
    "\n",
    "TN = sum(length(which(knn.pred=='Down' & Direction.test == 'Down')))\n",
    "FN = sum(length(which(knn.pred=='Down' & Direction.test == 'Up')))\n",
    "\n",
    "Accuracy = (TP + TN)/(TP + TN + FP + FN)\n",
    "Precision = (TP)/(TP + FP)\n",
    "Recall = (TP)/(TP + FN)\n",
    "cat(paste('Accuracy:', Accuracy, 'Precision:', Precision, 'Recall:', Recall, '\\n'))"
   ]
  },
  {
   "cell_type": "code",
   "execution_count": 84,
   "metadata": {},
   "outputs": [
    {
     "data": {
      "text/plain": [
       "        test.Direction\n",
       "knn.pred Down Up\n",
       "    Down   48 55\n",
       "    Up     63 86"
      ]
     },
     "metadata": {},
     "output_type": "display_data"
    },
    {
     "name": "stdout",
     "output_type": "stream",
     "text": [
      "Accuracy: 0.531746031746032 Precision: 0.577181208053691 Recall: 0.609929078014184 \n"
     ]
    }
   ],
   "source": [
    "knn.pred = knn(train.X, test.X, train.Direction, k=3)\n",
    "table(knn.pred, test.Direction)\n",
    "TP = sum(length(which(knn.pred=='Up' & Direction.test == 'Up')))\n",
    "FP = sum(length(which(knn.pred=='Up' & Direction.test == 'Down')))\n",
    "\n",
    "TN = sum(length(which(knn.pred=='Down' & Direction.test == 'Down')))\n",
    "FN = sum(length(which(knn.pred=='Down' & Direction.test == 'Up')))\n",
    "\n",
    "Accuracy = (TP + TN)/(TP + TN + FP + FN)\n",
    "Precision = (TP)/(TP + FP)\n",
    "Recall = (TP)/(TP + FN)\n",
    "cat(paste('Accuracy:', Accuracy, 'Precision:', Precision, 'Recall:', Recall, '\\n'))"
   ]
  },
  {
   "cell_type": "code",
   "execution_count": null,
   "metadata": {},
   "outputs": [],
   "source": []
  }
 ],
 "metadata": {
  "kernelspec": {
   "display_name": "Python 3",
   "language": "python",
   "name": "python3"
  },
  "language_info": {
   "codemirror_mode": {
    "name": "ipython",
    "version": 3
   },
   "file_extension": ".py",
   "mimetype": "text/x-python",
   "name": "python",
   "nbconvert_exporter": "python",
   "pygments_lexer": "ipython3",
   "version": "3.7.4"
  }
 },
 "nbformat": 4,
 "nbformat_minor": 2
}
